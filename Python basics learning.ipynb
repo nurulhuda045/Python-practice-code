{
 "cells": [
  {
   "cell_type": "code",
   "execution_count": 9,
   "metadata": {},
   "outputs": [
    {
     "name": "stdout",
     "output_type": "stream",
     "text": [
      "bmi: \n",
      "22.5\n",
      "NH\n",
      "is not overweight\n"
     ]
    }
   ],
   "source": [
    "name = \"NH\"\n",
    "height_m = 2\n",
    "weight_kg = 90\n",
    "\n",
    "bmi = weight_kg / (height_m ** 2)\n",
    "print(\"bmi: \")\n",
    "print(bmi)\n",
    "if bmi < 25:\n",
    "    print(name)\n",
    "    print(\"is not overweight\")\n",
    "else:\n",
    "    print(name)\n",
    "    print(\"is overweight\")"
   ]
  },
  {
   "cell_type": "code",
   "execution_count": 11,
   "metadata": {},
   "outputs": [
    {
     "name": "stdout",
     "output_type": "stream",
     "text": [
      "bmi: \n",
      "12.5\n",
      "bmi: \n",
      "9.54861111111111\n",
      "bmi: \n",
      "9.6\n",
      "nh is not overweight\n",
      "nh brother is not overweight\n",
      "nh sister is not overweight\n"
     ]
    }
   ],
   "source": [
    "name1 = \"nh\"\n",
    "height_m1 = 2\n",
    "weight_kg1 = 50\n",
    "\n",
    "name2 = \"nh brother\"\n",
    "height_m2 = 2.4\n",
    "weight_kg2 = 55\n",
    "\n",
    "name3 = \"nh sister\"\n",
    "height_m3 = 2.5\n",
    "weight_kg3 = 60\n",
    "\n",
    "def bmi_calculator(name, height_m, weight_kg):\n",
    "    bmi = weight_kg / (height_m ** 2)\n",
    "    print(\"bmi: \")\n",
    "    print(bmi)\n",
    "    if bmi < 25:\n",
    "        return name + \" is not overweight\"\n",
    "    else:\n",
    "        return name + \" is overweight\"\n",
    "    \n",
    "result1 = bmi_calculator(name1, height_m1, weight_kg1)\n",
    "result2 = bmi_calculator(name2, height_m2, weight_kg2)\n",
    "result3 = bmi_calculator(name3, height_m3, weight_kg3)\n",
    "\n",
    "print(result1)\n",
    "print(result2)\n",
    "print(result3)"
   ]
  },
  {
   "cell_type": "code",
   "execution_count": 2,
   "metadata": {},
   "outputs": [
    {
     "name": "stdout",
     "output_type": "stream",
     "text": [
      "[1, 2, 3]\n"
     ]
    }
   ],
   "source": [
    "# list\n",
    "a = [1, 2, 3]\n",
    "print(a)"
   ]
  },
  {
   "cell_type": "code",
   "execution_count": 2,
   "metadata": {},
   "outputs": [
    {
     "name": "stdout",
     "output_type": "stream",
     "text": [
      "[2030, 2065, 2100, 2135, 2170, 2205, 2240, 2275, 2310, 2345, 2380, 2415, 2450, 2485, 2520, 2555, 2590, 2625, 2660, 2695, 2730, 2765, 2800, 2835, 2870, 2905, 2940, 2975, 3010, 3045, 3080, 3115, 3150, 3185]\n"
     ]
    }
   ],
   "source": [
    "j=[]\n",
    "\n",
    "for i in range(2000, 3201):\n",
    "    if(i%7==0 and i%5==0):\n",
    "        j.append(i)\n",
    "print(j)"
   ]
  },
  {
   "cell_type": "code",
   "execution_count": 5,
   "metadata": {},
   "outputs": [
    {
     "ename": "SyntaxError",
     "evalue": "invalid syntax (<ipython-input-5-53fd3f952bed>, line 7)",
     "output_type": "error",
     "traceback": [
      "\u001b[1;36m  File \u001b[1;32m\"<ipython-input-5-53fd3f952bed>\"\u001b[1;36m, line \u001b[1;32m7\u001b[0m\n\u001b[1;33m    print fact(x)\u001b[0m\n\u001b[1;37m             ^\u001b[0m\n\u001b[1;31mSyntaxError\u001b[0m\u001b[1;31m:\u001b[0m invalid syntax\n"
     ]
    }
   ],
   "source": [
    "def fact(x):\n",
    "    if x == 0:\n",
    "        return 1\n",
    "    return x * fact(x - 1)\n",
    "\n",
    "x=int(input())\n",
    "print fact(x)"
   ]
  },
  {
   "cell_type": "code",
   "execution_count": 3,
   "metadata": {},
   "outputs": [
    {
     "name": "stdout",
     "output_type": "stream",
     "text": [
      "[1, 2, 3, 4]\n"
     ]
    }
   ],
   "source": [
    "a.append(4)\n",
    "print(a)"
   ]
  },
  {
   "cell_type": "code",
   "execution_count": 4,
   "metadata": {},
   "outputs": [
    {
     "name": "stdout",
     "output_type": "stream",
     "text": [
      "[1, 2, 3, 4, 'hello']\n"
     ]
    }
   ],
   "source": [
    "a.append(\"hello\")\n",
    "print(a)"
   ]
  },
  {
   "cell_type": "code",
   "execution_count": 10,
   "metadata": {},
   "outputs": [
    {
     "data": {
      "text/plain": [
       "4"
      ]
     },
     "execution_count": 10,
     "metadata": {},
     "output_type": "execute_result"
    }
   ],
   "source": [
    "a.pop(1)"
   ]
  },
  {
   "cell_type": "code",
   "execution_count": 12,
   "metadata": {},
   "outputs": [
    {
     "name": "stdout",
     "output_type": "stream",
     "text": [
      "[1]\n"
     ]
    }
   ],
   "source": [
    "print(a)"
   ]
  },
  {
   "cell_type": "code",
   "execution_count": 13,
   "metadata": {},
   "outputs": [],
   "source": [
    "a.append([1, 2])"
   ]
  },
  {
   "cell_type": "code",
   "execution_count": 14,
   "metadata": {},
   "outputs": [
    {
     "name": "stdout",
     "output_type": "stream",
     "text": [
      "[1, [1, 2]]\n"
     ]
    }
   ],
   "source": [
    "print(a)"
   ]
  },
  {
   "cell_type": "code",
   "execution_count": null,
   "metadata": {},
   "outputs": [],
   "source": [
    "a.pop()"
   ]
  },
  {
   "cell_type": "code",
   "execution_count": null,
   "metadata": {},
   "outputs": [],
   "source": [
    "print(a)"
   ]
  },
  {
   "cell_type": "code",
   "execution_count": null,
   "metadata": {},
   "outputs": [],
   "source": [
    "print(a[0])"
   ]
  },
  {
   "cell_type": "code",
   "execution_count": null,
   "metadata": {},
   "outputs": [],
   "source": [
    "print(a[3])"
   ]
  },
  {
   "cell_type": "code",
   "execution_count": null,
   "metadata": {},
   "outputs": [],
   "source": [
    "a[0] = 20\n",
    "print(a)"
   ]
  },
  {
   "cell_type": "code",
   "execution_count": 23,
   "metadata": {},
   "outputs": [
    {
     "name": "stdout",
     "output_type": "stream",
     "text": [
      "['banana', 'apple', 'microsoft']\n"
     ]
    }
   ],
   "source": [
    "x = [\"banana\", \"apple\", \"microsoft\"]\n",
    "print(x)"
   ]
  },
  {
   "cell_type": "code",
   "execution_count": 24,
   "metadata": {},
   "outputs": [
    {
     "name": "stdout",
     "output_type": "stream",
     "text": [
      "['microsoft', 'apple', 'banana']\n"
     ]
    }
   ],
   "source": [
    "temp = x[0]\n",
    "x[0] = x[2]\n",
    "x[2] = temp\n",
    "print(x)"
   ]
  },
  {
   "cell_type": "code",
   "execution_count": 25,
   "metadata": {},
   "outputs": [
    {
     "name": "stdout",
     "output_type": "stream",
     "text": [
      "['banana', 'apple', 'microsoft']\n"
     ]
    }
   ],
   "source": [
    "x[0], x[2] = x[2], x[0]\n",
    "print(x)"
   ]
  },
  {
   "cell_type": "code",
   "execution_count": 29,
   "metadata": {},
   "outputs": [
    {
     "name": "stdout",
     "output_type": "stream",
     "text": [
      "3\n",
      "5\n",
      "6\n",
      "7\n",
      "9\n",
      "3\n"
     ]
    }
   ],
   "source": [
    "# for loops\n",
    "for element in a:\n",
    "    print(element)"
   ]
  },
  {
   "cell_type": "code",
   "execution_count": 30,
   "metadata": {},
   "outputs": [
    {
     "name": "stdout",
     "output_type": "stream",
     "text": [
      "33\n"
     ]
    }
   ],
   "source": [
    "a = [3,5,6,7,9,3]\n",
    "total = 0\n",
    "for e in a:\n",
    "    total = total + e\n",
    "print(total)"
   ]
  },
  {
   "cell_type": "code",
   "execution_count": 31,
   "metadata": {},
   "outputs": [
    {
     "name": "stdout",
     "output_type": "stream",
     "text": [
      "[1, 2, 3, 4]\n"
     ]
    }
   ],
   "source": [
    "c = list(range(1, 5))\n",
    "print(c)"
   ]
  },
  {
   "cell_type": "code",
   "execution_count": 32,
   "metadata": {},
   "outputs": [
    {
     "name": "stdout",
     "output_type": "stream",
     "text": [
      "10\n"
     ]
    }
   ],
   "source": [
    "total2 = 0\n",
    "for i in range(1, 5):\n",
    "    total2 += i\n",
    "print(total2)\n"
   ]
  },
  {
   "cell_type": "code",
   "execution_count": 33,
   "metadata": {},
   "outputs": [
    {
     "name": "stdout",
     "output_type": "stream",
     "text": [
      "10\n"
     ]
    }
   ],
   "source": [
    "total3 = 0\n",
    "j = 1\n",
    "while j < 5:\n",
    "    total3 += j\n",
    "    j += 1\n",
    "print(total3)"
   ]
  },
  {
   "cell_type": "code",
   "execution_count": 34,
   "metadata": {},
   "outputs": [
    {
     "name": "stdout",
     "output_type": "stream",
     "text": [
      "17\n"
     ]
    }
   ],
   "source": [
    "given_list = [5, 4, 4, 3, 1]\n",
    "\n",
    "total4 = 0\n",
    "i = 0\n",
    "while i < len(given_list) and given_list[i] > 0:\n",
    "    total4 += given_list[i]\n",
    "    i += 1\n",
    "print(total4)"
   ]
  },
  {
   "cell_type": "code",
   "execution_count": 35,
   "metadata": {},
   "outputs": [
    {
     "name": "stdout",
     "output_type": "stream",
     "text": [
      "17\n"
     ]
    }
   ],
   "source": [
    "given_list2 = [5, 4, 4, 3, 1, -2, -3, -5]\n",
    "total5 = 0\n",
    "for element in given_list2:\n",
    "    if element <= 0:\n",
    "        break\n",
    "    total5 += element\n",
    "print(total5)"
   ]
  },
  {
   "cell_type": "code",
   "execution_count": 36,
   "metadata": {},
   "outputs": [
    {
     "name": "stdout",
     "output_type": "stream",
     "text": [
      "17\n"
     ]
    }
   ],
   "source": [
    "# given_list2 = [5, 4, 4, 3, 1, -2, -3, -5]\n",
    "total6 = 0\n",
    "i = 0\n",
    "while True:\n",
    "    total6 += given_list2[i]\n",
    "    i += 1\n",
    "    if given_list2[i] <= 0:\n",
    "        break\n",
    "print(total6)"
   ]
  },
  {
   "cell_type": "code",
   "execution_count": null,
   "metadata": {},
   "outputs": [],
   "source": [
    "a = [\"apple\", \"banana\", \"republic\"]"
   ]
  },
  {
   "cell_type": "code",
   "execution_count": null,
   "metadata": {},
   "outputs": [],
   "source": [
    "for element in a:\n",
    "    print(element)"
   ]
  },
  {
   "cell_type": "code",
   "execution_count": null,
   "metadata": {},
   "outputs": [],
   "source": [
    "for i in range(len(a)):\n",
    "    for j in range(i + 2):\n",
    "        print(a[i])"
   ]
  },
  {
   "cell_type": "code",
   "execution_count": null,
   "metadata": {},
   "outputs": [],
   "source": [
    "print(list(range(1, 100)))"
   ]
  },
  {
   "cell_type": "code",
   "execution_count": null,
   "metadata": {},
   "outputs": [],
   "source": [
    "total7 = 0\n",
    "for i in range(1, 100):\n",
    "    if i % 3 == 0 or i % 5 == 0:\n",
    "        total7 += i\n",
    "print(total7) "
   ]
  },
  {
   "cell_type": "code",
   "execution_count": null,
   "metadata": {},
   "outputs": [],
   "source": [
    "given_list = [7, 5, 4, 4, 3, 1, -2, -3, -5, -7]\n",
    "\n",
    "total8 = 0\n",
    "j = len(given_list) - 1\n",
    "while given_list[j] < 0:\n",
    "    total8 += given_list[j]\n",
    "    j -= 1\n",
    "print(total8)"
   ]
  },
  {
   "cell_type": "code",
   "execution_count": null,
   "metadata": {},
   "outputs": [],
   "source": [
    "# dictionary\n",
    "d = {}\n",
    "# d = {\"george\": 24, \"Tom\": 32}"
   ]
  },
  {
   "cell_type": "code",
   "execution_count": null,
   "metadata": {},
   "outputs": [],
   "source": [
    "d[\"george\"] = 24"
   ]
  },
  {
   "cell_type": "code",
   "execution_count": null,
   "metadata": {},
   "outputs": [],
   "source": [
    "d[\"Tom\"] = 32\n",
    "d[\"jenny\"] = 16"
   ]
  },
  {
   "cell_type": "code",
   "execution_count": null,
   "metadata": {},
   "outputs": [],
   "source": [
    "print(d[\"Tom\"])"
   ]
  },
  {
   "cell_type": "code",
   "execution_count": null,
   "metadata": {},
   "outputs": [],
   "source": [
    "# keys are commonly strings or numbers\n",
    "d[10] = 100"
   ]
  },
  {
   "cell_type": "code",
   "execution_count": null,
   "metadata": {},
   "outputs": [],
   "source": [
    "print(d[10])"
   ]
  },
  {
   "cell_type": "code",
   "execution_count": null,
   "metadata": {},
   "outputs": [],
   "source": [
    "for key, value in d.items():\n",
    "    print(\"key:\")\n",
    "    print(key)\n",
    "    print(\"value:\")\n",
    "    print(value)\n",
    "    print(\"\")"
   ]
  },
  {
   "cell_type": "code",
   "execution_count": null,
   "metadata": {},
   "outputs": [],
   "source": [
    "class Robot:\n",
    "    def __init__(self, name, color, weight):\n",
    "        self.name = name\n",
    "        self.color = color\n",
    "        self.weight = weight\n",
    "    \n",
    "    def introduce_self(self):\n",
    "        print(\"My name is \" + self.name) #this in java"
   ]
  },
  {
   "cell_type": "code",
   "execution_count": null,
   "metadata": {},
   "outputs": [],
   "source": [
    "#r1 = Robot()\n",
    "#r1.name = \"tom\"\n",
    "#r1.color = \"red\"\n",
    "#r1.weight = 30\n",
    "\n",
    "r1 = Robot(\"Tom\", \"red\", 30)"
   ]
  },
  {
   "cell_type": "code",
   "execution_count": null,
   "metadata": {},
   "outputs": [],
   "source": [
    "r1.introduce_self()"
   ]
  },
  {
   "cell_type": "code",
   "execution_count": null,
   "metadata": {},
   "outputs": [],
   "source": [
    "class Robot:\n",
    "    def __init__(self, n, c, w):\n",
    "        self.name = n\n",
    "        self.color = c\n",
    "        self.weight = w\n",
    "    \n",
    "    def introduce_self(self):\n",
    "        print(\"My name is \" + self.name)"
   ]
  },
  {
   "cell_type": "code",
   "execution_count": null,
   "metadata": {},
   "outputs": [],
   "source": [
    "r1 = Robot(\"tom\", \"red\", 30)\n",
    "r2 = Robot(\"jerry\", \"blue\", 40)"
   ]
  },
  {
   "cell_type": "code",
   "execution_count": null,
   "metadata": {},
   "outputs": [],
   "source": [
    "r2.introduce_self()"
   ]
  },
  {
   "cell_type": "code",
   "execution_count": null,
   "metadata": {},
   "outputs": [],
   "source": [
    "class person:\n",
    "    def __init__(self, n, p, i):\n",
    "        self.name = n\n",
    "        self.personality = p\n",
    "        self.is_sitting = i\n",
    "        \n",
    "    def sit_down(self):\n",
    "        self.is_sitting = True\n",
    "    \n",
    "    def stand_up(self):\n",
    "        self.is_sitting = False\n",
    "        "
   ]
  },
  {
   "cell_type": "code",
   "execution_count": null,
   "metadata": {},
   "outputs": [],
   "source": [
    "p1 = person(\"alice\", \"aggressive\", False)\n",
    "p2 = person(\"Becky\", \"talkative\", True)"
   ]
  },
  {
   "cell_type": "code",
   "execution_count": null,
   "metadata": {},
   "outputs": [],
   "source": [
    "p1.robot_owned = r2\n",
    "p2.robot_owned = r1"
   ]
  },
  {
   "cell_type": "code",
   "execution_count": null,
   "metadata": {},
   "outputs": [],
   "source": [
    "p1.robot_owned.introduce_self()"
   ]
  },
  {
   "cell_type": "code",
   "execution_count": null,
   "metadata": {},
   "outputs": [],
   "source": [
    "def are_you_sad(is_rainy, has_umbrella):\n",
    "    return is_rainy and not has_umbrella\n",
    "#           or\n",
    "#        return True\n",
    "#    else:\n",
    "#        return False"
   ]
  },
  {
   "cell_type": "code",
   "execution_count": null,
   "metadata": {},
   "outputs": [],
   "source": [
    "are_you_sad(True, False)"
   ]
  },
  {
   "cell_type": "code",
   "execution_count": null,
   "metadata": {},
   "outputs": [],
   "source": [
    "are_you_sad(True, True)"
   ]
  },
  {
   "cell_type": "code",
   "execution_count": null,
   "metadata": {},
   "outputs": [],
   "source": [
    "def c_greater_than_d_plus_e(c, d, e):\n",
    "    return c > d + e"
   ]
  },
  {
   "cell_type": "code",
   "execution_count": null,
   "metadata": {},
   "outputs": [],
   "source": [
    "c_greater_than_d_plus_e(3, 1, 1)"
   ]
  },
  {
   "cell_type": "code",
   "execution_count": null,
   "metadata": {},
   "outputs": [],
   "source": [
    "c_greater_than_d_plus_e(3, 1, 2)"
   ]
  },
  {
   "cell_type": "code",
   "execution_count": null,
   "metadata": {},
   "outputs": [],
   "source": [
    "a = [1, 3, 5, 7, 9, 11]"
   ]
  },
  {
   "cell_type": "code",
   "execution_count": null,
   "metadata": {},
   "outputs": [],
   "source": [
    "b = []\n",
    "b.append(10)\n",
    "b.append(20)\n",
    "print(b)"
   ]
  },
  {
   "cell_type": "code",
   "execution_count": null,
   "metadata": {},
   "outputs": [],
   "source": [
    "c = []\n",
    "for x in a:\n",
    "    c.append(x * 2)\n",
    "print(c)"
   ]
  },
  {
   "cell_type": "code",
   "execution_count": null,
   "metadata": {},
   "outputs": [],
   "source": [
    "d = [x * 2 for x in a]"
   ]
  },
  {
   "cell_type": "code",
   "execution_count": null,
   "metadata": {},
   "outputs": [],
   "source": [
    "print(d)"
   ]
  },
  {
   "cell_type": "code",
   "execution_count": null,
   "metadata": {},
   "outputs": [],
   "source": [
    "el = []\n",
    "for x in range(1, 7):\n",
    "    el.append(x ** 2)\n",
    "print(el)"
   ]
  },
  {
   "cell_type": "code",
   "execution_count": null,
   "metadata": {},
   "outputs": [],
   "source": [
    "e2 = [x ** 2 for x in range(1, 7)]\n",
    "print(e2)"
   ]
  },
  {
   "cell_type": "code",
   "execution_count": null,
   "metadata": {},
   "outputs": [],
   "source": [
    "f1 = []\n",
    "for x in range(6, 0, -1):\n",
    "    f1.append(x ** 2)\n",
    "print(f1)"
   ]
  },
  {
   "cell_type": "code",
   "execution_count": null,
   "metadata": {},
   "outputs": [],
   "source": [
    "f2 = [x ** 2 for x in range (6, 0, -1)]\n",
    "print(f2)"
   ]
  },
  {
   "cell_type": "code",
   "execution_count": null,
   "metadata": {},
   "outputs": [],
   "source": [
    "# using set in python\n",
    "\n",
    "a = set()\n",
    "print(a)"
   ]
  },
  {
   "cell_type": "code",
   "execution_count": null,
   "metadata": {},
   "outputs": [],
   "source": [
    "a.add(1)\n",
    "print(a)"
   ]
  },
  {
   "cell_type": "code",
   "execution_count": null,
   "metadata": {},
   "outputs": [],
   "source": [
    "a.add(2)\n",
    "print(a)"
   ]
  },
  {
   "cell_type": "code",
   "execution_count": null,
   "metadata": {},
   "outputs": [],
   "source": [
    "a.add(2)\n",
    "print(a)"
   ]
  },
  {
   "cell_type": "code",
   "execution_count": null,
   "metadata": {},
   "outputs": [],
   "source": [
    "for x in a:\n",
    "    print(x)"
   ]
  },
  {
   "cell_type": "code",
   "execution_count": null,
   "metadata": {},
   "outputs": [],
   "source": [
    "given_list = [1, 1, 2, 4, 2]"
   ]
  },
  {
   "cell_type": "code",
   "execution_count": null,
   "metadata": {},
   "outputs": [],
   "source": [
    "new_set1 = set()\n",
    "for  x in given_list:\n",
    "    new_set1.add(x)\n",
    "print(new_set1)"
   ]
  },
  {
   "cell_type": "code",
   "execution_count": null,
   "metadata": {},
   "outputs": [],
   "source": [
    "new_list1 = list()\n",
    "for x in new_set1:\n",
    "    new_list1.append(x)\n",
    "print(new_list1)"
   ]
  },
  {
   "cell_type": "code",
   "execution_count": null,
   "metadata": {},
   "outputs": [],
   "source": [
    "b = set()\n",
    "b.add(\"apple\")\n",
    "b.add(\"banana\")\n",
    "b.add(\"1\")\n",
    "print(b)"
   ]
  },
  {
   "cell_type": "code",
   "execution_count": null,
   "metadata": {},
   "outputs": [],
   "source": [
    "given_list2 = [1, 3, 4, 1, 3]"
   ]
  },
  {
   "cell_type": "code",
   "execution_count": null,
   "metadata": {},
   "outputs": [],
   "source": [
    "new_set2 = set()\n",
    "for x in given_list2:\n",
    "    new_set2.add(x)\n",
    "print(new_set2)\n",
    "total = 0\n",
    "for x in new_set2:\n",
    "    total +=x\n",
    "print(total)"
   ]
  },
  {
   "cell_type": "code",
   "execution_count": null,
   "metadata": {},
   "outputs": [],
   "source": [
    "# practice on codingbat, projecteuler"
   ]
  },
  {
   "cell_type": "code",
   "execution_count": null,
   "metadata": {},
   "outputs": [],
   "source": [
    "d = \"abc\""
   ]
  },
  {
   "cell_type": "code",
   "execution_count": null,
   "metadata": {},
   "outputs": [],
   "source": [
    "to_return = ''\n",
    "for c in d:\n",
    "    to_return += c*2"
   ]
  },
  {
   "cell_type": "code",
   "execution_count": null,
   "metadata": {},
   "outputs": [],
   "source": [
    "print(to_return)"
   ]
  },
  {
   "cell_type": "code",
   "execution_count": null,
   "metadata": {},
   "outputs": [],
   "source": [
    "nums = [25, 77, 29, 12, 14, 36]"
   ]
  },
  {
   "cell_type": "code",
   "execution_count": null,
   "metadata": {},
   "outputs": [],
   "source": [
    "min(nums)"
   ]
  },
  {
   "cell_type": "code",
   "execution_count": null,
   "metadata": {},
   "outputs": [],
   "source": [
    "max(nums)"
   ]
  },
  {
   "cell_type": "code",
   "execution_count": null,
   "metadata": {},
   "outputs": [],
   "source": [
    "sum(nums)"
   ]
  },
  {
   "cell_type": "code",
   "execution_count": null,
   "metadata": {},
   "outputs": [],
   "source": [
    "set = {25, 77, 29, 12, 14, 36}"
   ]
  },
  {
   "cell_type": "code",
   "execution_count": null,
   "metadata": {},
   "outputs": [],
   "source": [
    "print(set)"
   ]
  },
  {
   "cell_type": "code",
   "execution_count": null,
   "metadata": {},
   "outputs": [],
   "source": [
    "del nums [3:]"
   ]
  },
  {
   "cell_type": "code",
   "execution_count": null,
   "metadata": {},
   "outputs": [],
   "source": [
    "print(nums)"
   ]
  },
  {
   "cell_type": "code",
   "execution_count": null,
   "metadata": {},
   "outputs": [],
   "source": [
    "a = 5\n",
    "b = 6"
   ]
  },
  {
   "cell_type": "code",
   "execution_count": null,
   "metadata": {},
   "outputs": [],
   "source": [
    "a = a ^ b\n",
    "b = a ^ b\n",
    "a = a ^ b"
   ]
  },
  {
   "cell_type": "code",
   "execution_count": null,
   "metadata": {},
   "outputs": [],
   "source": [
    "print(a)\n",
    "print(b)"
   ]
  },
  {
   "cell_type": "code",
   "execution_count": null,
   "metadata": {},
   "outputs": [],
   "source": [
    "a, b = b, a"
   ]
  },
  {
   "cell_type": "code",
   "execution_count": null,
   "metadata": {},
   "outputs": [],
   "source": [
    "print(a)\n",
    "print(b)"
   ]
  },
  {
   "cell_type": "code",
   "execution_count": null,
   "metadata": {},
   "outputs": [],
   "source": [
    "# tilde(~) or complement\n",
    "~12"
   ]
  },
  {
   "cell_type": "code",
   "execution_count": null,
   "metadata": {},
   "outputs": [],
   "source": [
    "# bitwise AND\n",
    "13 & 12"
   ]
  },
  {
   "cell_type": "code",
   "execution_count": null,
   "metadata": {},
   "outputs": [],
   "source": [
    "# bitwise OR\n",
    "12|13"
   ]
  },
  {
   "cell_type": "code",
   "execution_count": null,
   "metadata": {},
   "outputs": [],
   "source": [
    "# bitwise XOR\n",
    "12 ^ 13"
   ]
  },
  {
   "cell_type": "code",
   "execution_count": 4,
   "metadata": {},
   "outputs": [
    {
     "data": {
      "text/plain": [
       "40"
      ]
     },
     "execution_count": 4,
     "metadata": {},
     "output_type": "execute_result"
    }
   ],
   "source": [
    "# 2_left_shift 1010.000 == 101000.0\n",
    "10 << 2"
   ]
  },
  {
   "cell_type": "code",
   "execution_count": 5,
   "metadata": {},
   "outputs": [],
   "source": [
    "import math as m"
   ]
  },
  {
   "cell_type": "code",
   "execution_count": 6,
   "metadata": {},
   "outputs": [],
   "source": [
    "x = m.sqrt(25)"
   ]
  },
  {
   "cell_type": "code",
   "execution_count": 7,
   "metadata": {},
   "outputs": [
    {
     "name": "stdout",
     "output_type": "stream",
     "text": [
      "5.0\n"
     ]
    }
   ],
   "source": [
    "print(x)"
   ]
  },
  {
   "cell_type": "code",
   "execution_count": 11,
   "metadata": {},
   "outputs": [
    {
     "name": "stdout",
     "output_type": "stream",
     "text": [
      "2\n",
      "2\n"
     ]
    }
   ],
   "source": [
    "print(m.ceil(1.9))\n",
    "print(m.floor(2.9))"
   ]
  },
  {
   "cell_type": "code",
   "execution_count": 12,
   "metadata": {},
   "outputs": [
    {
     "name": "stdout",
     "output_type": "stream",
     "text": [
      "8.0\n"
     ]
    }
   ],
   "source": [
    "print(m.pow(2,3))"
   ]
  },
  {
   "cell_type": "code",
   "execution_count": 13,
   "metadata": {},
   "outputs": [
    {
     "name": "stdout",
     "output_type": "stream",
     "text": [
      "3.141592653589793\n"
     ]
    }
   ],
   "source": [
    "print(m.pi)"
   ]
  },
  {
   "cell_type": "code",
   "execution_count": 14,
   "metadata": {},
   "outputs": [
    {
     "name": "stdout",
     "output_type": "stream",
     "text": [
      "2.718281828459045\n"
     ]
    }
   ],
   "source": [
    "print(m.e)"
   ]
  },
  {
   "cell_type": "code",
   "execution_count": 15,
   "metadata": {},
   "outputs": [
    {
     "name": "stdout",
     "output_type": "stream",
     "text": [
      "c:\\docs\n",
      "avin\n",
      "c:\\docs\\navin\n"
     ]
    }
   ],
   "source": [
    "print('c:\\docs\\navin')\n",
    "print(r'c:\\docs\\navin')"
   ]
  },
  {
   "cell_type": "code",
   "execution_count": 2,
   "metadata": {},
   "outputs": [
    {
     "name": "stdout",
     "output_type": "stream",
     "text": [
      "enter the number67\n",
      "67\n"
     ]
    }
   ],
   "source": [
    "# user input\n",
    "ch = input(\"enter the number\")\n",
    "print(ch)"
   ]
  },
  {
   "cell_type": "code",
   "execution_count": 3,
   "metadata": {},
   "outputs": [
    {
     "name": "stdout",
     "output_type": "stream",
     "text": [
      "67\n"
     ]
    }
   ],
   "source": [
    "print(ch)"
   ]
  },
  {
   "cell_type": "code",
   "execution_count": 5,
   "metadata": {},
   "outputs": [
    {
     "name": "stdout",
     "output_type": "stream",
     "text": [
      "enter the char djgjghfjh\n",
      "j\n"
     ]
    }
   ],
   "source": [
    "ch = input(\"enter the char \")[3]\n",
    "print(ch)"
   ]
  },
  {
   "cell_type": "code",
   "execution_count": 16,
   "metadata": {},
   "outputs": [
    {
     "name": "stdout",
     "output_type": "stream",
     "text": [
      "enter the expr:7+4-98\n"
     ]
    }
   ],
   "source": [
    "result = eval(input(\"enter the expr:\"))"
   ]
  },
  {
   "cell_type": "code",
   "execution_count": 17,
   "metadata": {},
   "outputs": [
    {
     "name": "stdout",
     "output_type": "stream",
     "text": [
      "-87\n"
     ]
    }
   ],
   "source": [
    "print(result)"
   ]
  },
  {
   "cell_type": "code",
   "execution_count": 18,
   "metadata": {},
   "outputs": [
    {
     "name": "stdout",
     "output_type": "stream",
     "text": [
      "enter 1st number4\n",
      "enter 2nd number5\n",
      "45\n",
      "enter first number9\n",
      "enter second number8\n",
      "17\n",
      "enter 1st number87\n",
      "enter 2nd number3\n",
      "90\n"
     ]
    }
   ],
   "source": [
    "# user input\n",
    "x = input(\"enter 1st number\")\n",
    "y = input(\"enter 2nd number\")\n",
    "z = x + y\n",
    "print(z)\n",
    "\n",
    "x = input(\"enter first number\")\n",
    "a = int(x)\n",
    "y = input(\"enter second number\")\n",
    "b = int(y)\n",
    "z = a + b\n",
    "print(z)\n",
    "\n",
    "x = int(input(\"enter 1st number\"))\n",
    "y = int(input(\"enter 2nd number\"))\n",
    "z = x + y\n",
    "print(z)"
   ]
  },
  {
   "cell_type": "code",
   "execution_count": 19,
   "metadata": {},
   "outputs": [
    {
     "name": "stdout",
     "output_type": "stream",
     "text": [
      "enter the number:\n",
      "9\n",
      "729\n"
     ]
    }
   ],
   "source": [
    "a = int(input(\"enter the number:\\n\"))\n",
    "b = a**3\n",
    "print(b)"
   ]
  },
  {
   "cell_type": "code",
   "execution_count": 20,
   "metadata": {},
   "outputs": [
    {
     "name": "stdout",
     "output_type": "stream",
     "text": [
      "enter the number:\n",
      "8\n",
      "positive number\n"
     ]
    }
   ],
   "source": [
    "x = int(input(\"enter the number:\\n\"))\n",
    "if x > 0:\n",
    "    print(\"positive number\")\n",
    "else:\n",
    "    print(\"negative number\")"
   ]
  },
  {
   "cell_type": "code",
   "execution_count": 21,
   "metadata": {},
   "outputs": [
    {
     "name": "stdout",
     "output_type": "stream",
     "text": [
      "enter the number:\n",
      "8\n",
      "enter the number:\n",
      "5\n",
      "enter the number:\n",
      "7\n",
      "i is greater\n"
     ]
    }
   ],
   "source": [
    "i = int(input(\"enter the number:\\n\"))\n",
    "j = int(input(\"enter the number:\\n\"))\n",
    "k = int(input(\"enter the number:\\n\"))\n",
    "if i>j and i>k:\n",
    "    print(\"i is greater\")\n",
    "elif j>i and j>k:\n",
    "    print(\"j is greater\")\n",
    "else:\n",
    "    print(\"k is greater\")"
   ]
  },
  {
   "cell_type": "code",
   "execution_count": 22,
   "metadata": {},
   "outputs": [
    {
     "name": "stdout",
     "output_type": "stream",
     "text": [
      "nurul huda huda huda huda huda \n",
      "nurul huda huda huda huda huda \n",
      "nurul huda huda huda huda huda \n",
      "nurul huda huda huda huda huda \n",
      "nurul huda huda huda huda huda \n"
     ]
    }
   ],
   "source": [
    "# loop\n",
    "i = 1\n",
    "while i<=5:\n",
    "    print(\"nurul \",end=\"\")\n",
    "    j = 1\n",
    "    while j<=5:\n",
    "        print(\"huda \",end=\"\")\n",
    "        j += 1\n",
    "    i += 1\n",
    "    print()"
   ]
  },
  {
   "cell_type": "code",
   "execution_count": 23,
   "metadata": {},
   "outputs": [
    {
     "name": "stdout",
     "output_type": "stream",
     "text": [
      "1\n",
      "2\n",
      "4\n",
      "7\n",
      "8\n",
      "11\n",
      "13\n",
      "14\n",
      "16\n",
      "17\n",
      "19\n",
      "22\n",
      "23\n",
      "26\n",
      "28\n",
      "29\n",
      "31\n",
      "32\n",
      "34\n",
      "37\n",
      "38\n",
      "41\n",
      "43\n",
      "44\n",
      "46\n",
      "47\n",
      "49\n",
      "52\n",
      "53\n",
      "56\n",
      "58\n",
      "59\n",
      "61\n",
      "62\n",
      "64\n",
      "67\n",
      "68\n",
      "71\n",
      "73\n",
      "74\n",
      "76\n",
      "77\n",
      "79\n",
      "82\n",
      "83\n",
      "86\n",
      "88\n",
      "89\n",
      "91\n",
      "92\n",
      "94\n",
      "97\n",
      "98\n"
     ]
    }
   ],
   "source": [
    "# Divisible by 3 and 5\n",
    "i = 1\n",
    "while i<=100:\n",
    "    if i%3!=0 and i%5!=0:\n",
    "        print(i)\n",
    "    i +=1"
   ]
  },
  {
   "cell_type": "code",
   "execution_count": 24,
   "metadata": {},
   "outputs": [
    {
     "name": "stdout",
     "output_type": "stream",
     "text": [
      "1\n",
      "2\n",
      "4\n",
      "7\n",
      "8\n",
      "11\n",
      "13\n",
      "14\n",
      "16\n",
      "17\n",
      "19\n",
      "22\n",
      "23\n",
      "26\n",
      "28\n",
      "29\n",
      "31\n",
      "32\n",
      "34\n",
      "37\n",
      "38\n",
      "41\n",
      "43\n",
      "44\n",
      "46\n",
      "47\n",
      "49\n",
      "52\n",
      "53\n",
      "56\n",
      "58\n",
      "59\n",
      "61\n",
      "62\n",
      "64\n",
      "67\n",
      "68\n",
      "71\n",
      "73\n",
      "74\n",
      "76\n",
      "77\n",
      "79\n",
      "82\n",
      "83\n",
      "86\n",
      "88\n",
      "89\n",
      "91\n",
      "92\n",
      "94\n",
      "97\n",
      "98\n"
     ]
    }
   ],
   "source": [
    "for i in range(1, 101):\n",
    "    if i%3!=0 and i%5!=0:\n",
    "        print(i)"
   ]
  },
  {
   "cell_type": "code",
   "execution_count": null,
   "metadata": {},
   "outputs": [],
   "source": [
    "for i in range(4):\n",
    "    for j in range(4):\n",
    "        print(\"# \",end=\"\")\n",
    "    print()"
   ]
  },
  {
   "cell_type": "code",
   "execution_count": null,
   "metadata": {},
   "outputs": [],
   "source": [
    "for i in range(4):\n",
    "    for j in range(i+1):\n",
    "        print(\"# \",end=\"\")\n",
    "    print()"
   ]
  },
  {
   "cell_type": "code",
   "execution_count": null,
   "metadata": {},
   "outputs": [],
   "source": [
    "for i in range(4):\n",
    "    for j in range(4-i):\n",
    "        print(\"# \",end=\"\")\n",
    "    print()"
   ]
  },
  {
   "cell_type": "code",
   "execution_count": null,
   "metadata": {},
   "outputs": [],
   "source": [
    "for i in range(4):\n",
    "    for j in range(4-i):\n",
    "        print(j+i+1,end=\"\")\n",
    "    print()"
   ]
  },
  {
   "cell_type": "code",
   "execution_count": null,
   "metadata": {},
   "outputs": [],
   "source": [
    "i = 1\n",
    "while i<=4:\n",
    "    j = 0\n",
    "    while j<=4-i:\n",
    "        print(j+i,end=\"\")\n",
    "        j +=1\n",
    "    print()\n",
    "    i +=1"
   ]
  },
  {
   "cell_type": "code",
   "execution_count": null,
   "metadata": {},
   "outputs": [],
   "source": [
    "i = 2\n",
    "while i ** 2 <= 500:\n",
    "    p = i**2\n",
    "    print(p)\n",
    "    i += 1"
   ]
  },
  {
   "cell_type": "code",
   "execution_count": null,
   "metadata": {},
   "outputs": [],
   "source": [
    "a = int(input(\"enter a number\"))\n",
    "i = 1\n",
    "while i<a:\n",
    "    if a % i == 0:\n",
    "        print(\"p\")\n",
    "        continue\n",
    "    else:\n",
    "        print(i)\n",
    "        print(a)\n",
    "i += 1"
   ]
  },
  {
   "cell_type": "code",
   "execution_count": null,
   "metadata": {},
   "outputs": [],
   "source": [
    "# Using Array\n",
    "from array import *\n",
    "arr = array('i',[])\n",
    "\n",
    "n = int(input(\"Enter the length of array\"))\n",
    "for i in range(n):\n",
    "    x = int(input(\"Enter the value\"))\n",
    "    arr.append(x)\n",
    "print(arr)\n",
    "\n",
    "a = int(input(\"enter the value to search\"))\n",
    "k = 0\n",
    "for e in arr:\n",
    "    if e==a:\n",
    "        print(k)\n",
    "        break\n",
    "    k += 1\n",
    "print(arr.index(a))"
   ]
  },
  {
   "cell_type": "code",
   "execution_count": null,
   "metadata": {},
   "outputs": [],
   "source": [
    "# Using different numpy function\n",
    "from numpy import *\n",
    "arr = linspace(1,20,19)\n",
    "print(arr)\n",
    "print()\n",
    "\n",
    "arr = logspace(1,20,19)\n",
    "print(arr)\n",
    "print()\n",
    "\n",
    "arr = arange(1,20,2)\n",
    "print(arr)\n",
    "print()\n",
    "\n",
    "arr = zeros(5)\n",
    "print(arr)\n",
    "print()\n",
    "\n",
    "arr = ones(5)\n",
    "print(arr)"
   ]
  },
  {
   "cell_type": "code",
   "execution_count": null,
   "metadata": {},
   "outputs": [],
   "source": [
    "# array copy and types of copy\n",
    "\n",
    "from numpy import *\n",
    "# Aliasing\n",
    "arr1 = array([1,2,5,6,8,9])\n",
    "arr2 = arr1\n",
    "print(arr1)\n",
    "print(arr2)\n",
    "print(id(arr1))\n",
    "print(id(arr2))\n",
    "print()\n",
    "\n",
    "#shallow copy\n",
    "arr3 = array([1,2,5,6,8,9])\n",
    "\n",
    "arr4 = arr3.view()\n",
    "arr3[4] = 7\n",
    "print(arr3)\n",
    "print(arr4)\n",
    "print(id(arr4 ))\n",
    "print(id(arr3))\n",
    "print()\n",
    "\n",
    "# deep copy\n",
    "arr4 = arr3.copy()\n",
    "arr3[4] = 8\n",
    "print(arr3)\n",
    "print(arr4)\n",
    "\n",
    "print(id(arr3))\n",
    "print(id(arr4))"
   ]
  },
  {
   "cell_type": "code",
   "execution_count": null,
   "metadata": {},
   "outputs": [],
   "source": [
    "# Addition of array\n",
    "\n",
    "from numpy import *\n",
    "\n",
    "arr = array([1,2,3,4,10])\n",
    "arr1 = arr + 5\n",
    "print(arr)\n",
    "print(arr1)\n",
    "print()\n",
    "\n",
    "for i in arr:\n",
    "    arr = i+6\n",
    "    print(arr)"
   ]
  },
  {
   "cell_type": "code",
   "execution_count": null,
   "metadata": {},
   "outputs": [],
   "source": [
    "# multi_dimensional array\n",
    "from numpy import *\n",
    "arr = array([\n",
    "    \n",
    "         [1,2,3,5,6,7],\n",
    "         [4,5,6,2,3,8]\n",
    "     \n",
    "      ])\n",
    "print(arr)\n",
    "print(arr.dtype)\n",
    "print(arr.ndim)\n",
    "print(arr. shape)\n",
    "print(arr.size)\n",
    "print()\n",
    "\n",
    "arr2 = arr.flatten\n",
    "print(arr2)\n",
    "print()\n",
    "\n",
    "arr3 = arr.reshape(4,3)\n",
    "print(arr3)\n",
    "print()\n",
    "\n",
    "arr4 = arr.reshape(2,2,3)\n",
    "print(arr4)\n",
    "\n"
   ]
  },
  {
   "cell_type": "code",
   "execution_count": null,
   "metadata": {},
   "outputs": [],
   "source": [
    "# easy method to create multi_dimensional aray\n",
    "m = matrix('1,2,3;4,5,6;7,8,9')\n",
    "print(m)\n",
    "print()\n",
    "print(diagonal(m))\n",
    "print(m.min())\n",
    "print(m.max())\n",
    "print()\n",
    "\n",
    "# multiplication\n",
    "m1 = m\n",
    "m2 = matrix('1,2,3;4,5,6;7,8,9')\n",
    "\n",
    "m3 = m1 * m2\n",
    "print(m3)"
   ]
  },
  {
   "cell_type": "code",
   "execution_count": 25,
   "metadata": {},
   "outputs": [
    {
     "ename": "SyntaxError",
     "evalue": "unexpected EOF while parsing (<ipython-input-25-c06f2de5f6c4>, line 3)",
     "output_type": "error",
     "traceback": [
      "\u001b[1;36m  File \u001b[1;32m\"<ipython-input-25-c06f2de5f6c4>\"\u001b[1;36m, line \u001b[1;32m3\u001b[0m\n\u001b[1;33m    \u001b[0m\n\u001b[1;37m    ^\u001b[0m\n\u001b[1;31mSyntaxError\u001b[0m\u001b[1;31m:\u001b[0m unexpected EOF while parsing\n"
     ]
    }
   ],
   "source": [
    "# fibonacci numbers\n",
    "for i in range(50):\n",
    "    "
   ]
  },
  {
   "cell_type": "code",
   "execution_count": null,
   "metadata": {},
   "outputs": [],
   "source": [
    "given_list = [1,3,4,5,0,2]\n",
    "total = 0\n",
    "for i in given_list:\n",
    "        total += i\n",
    "print(total)"
   ]
  },
  {
   "cell_type": "code",
   "execution_count": null,
   "metadata": {},
   "outputs": [],
   "source": [
    "def second_largest(given_list):\n",
    "    largest = None\n",
    "    second_largest = None\n",
    "    for current_number in given_list:\n",
    "        if largest == None:\n",
    "            largest = current_number\n",
    "        elif current_number > largest:\n",
    "            second_largest = largest\n",
    "            largest = current_number\n",
    "        elif second_largest == None:\n",
    "            second_largest = current_number\n",
    "        elif current_number > second_largest:\n",
    "            second_largest = current_number\n",
    "    return second_largest"
   ]
  },
  {
   "cell_type": "code",
   "execution_count": null,
   "metadata": {},
   "outputs": [],
   "source": [
    "print(second_largest([1,3,4,5,0,2]))\n",
    "print(second_largest([2,2,1]))\n",
    "print(second_largest([-2,-1]))\n",
    "print(second_largest([1]))\n",
    "print(second_largest([]))"
   ]
  },
  {
   "cell_type": "code",
   "execution_count": null,
   "metadata": {},
   "outputs": [],
   "source": [
    "# problem solving\n",
    "def are_reverses(string_1,string_2):\n",
    "    for i in range(len(string_1)):\n",
    "        i_2 = len(string_2)-i-1\n",
    "        if string_1[i] != string_2[i_2]:\n",
    "            return False\n",
    "    return True"
   ]
  },
  {
   "cell_type": "code",
   "execution_count": null,
   "metadata": {},
   "outputs": [],
   "source": [
    "are_reverses(\"ABC\",\"rBA\")"
   ]
  },
  {
   "cell_type": "code",
   "execution_count": null,
   "metadata": {},
   "outputs": [],
   "source": [
    "def larger_than(a, b):\n",
    "    if len(a) > len(b): # a = \"222\", b = \"99\"\n",
    "        return True\n",
    "    elif len(a) < len(b):\n",
    "        return False\n",
    "    # a = \"223\", b = \"222\"\n",
    "    for i in range(len(a)):\n",
    "        if a[i] == b[i]:\n",
    "            continue\n",
    "        elif a[i] > b[i]:\n",
    "            return True\n",
    "        else: # a[i] < b[i]\n",
    "            return False\n",
    "    return False # the two strings are equivalent.\n",
    "    "
   ]
  },
  {
   "cell_type": "code",
   "execution_count": null,
   "metadata": {},
   "outputs": [],
   "source": [
    "print(larger_than(\"112\",\"111\"))\n",
    "print(larger_than(\"525\",\"1111\"))\n",
    "print(larger_than(\"11\",\"0\"))\n",
    "print(larger_than(\"1\",\"1\"))\n",
    "print(larger_than(\"2525\",\"0000000\"))"
   ]
  },
  {
   "cell_type": "code",
   "execution_count": null,
   "metadata": {},
   "outputs": [],
   "source": []
  },
  {
   "cell_type": "code",
   "execution_count": null,
   "metadata": {},
   "outputs": [],
   "source": [
    "# 2_dimensional Array\n",
    "a = [[1,2,3,4],[5,6,7,8]]\n",
    "print(a)\n",
    "print()\n",
    "# iteration methods\n",
    "for row in a:\n",
    "    for item in row:\n",
    "        print(item)\n",
    "print()\n",
    "\n",
    "    #Or\n",
    "for i in range(len(a)):\n",
    "    for j in range(len(a[i])):\n",
    "        print(a[i][j])\n",
    "    "
   ]
  },
  {
   "cell_type": "code",
   "execution_count": null,
   "metadata": {},
   "outputs": [],
   "source": [
    "a[0][2] = 99\n",
    "print(a)"
   ]
  },
  {
   "cell_type": "code",
   "execution_count": 26,
   "metadata": {},
   "outputs": [],
   "source": [
    "def diagonal_sum(given_2d):\n",
    "    total = 0\n",
    "    for i in range(len(given_2d)):\n",
    "        total += given_2d[i][i]\n",
    "    return(total)"
   ]
  },
  {
   "cell_type": "code",
   "execution_count": 27,
   "metadata": {},
   "outputs": [
    {
     "data": {
      "text/plain": [
       "9"
      ]
     },
     "execution_count": 27,
     "metadata": {},
     "output_type": "execute_result"
    }
   ],
   "source": [
    "diagonal_sum([[1,2,3],\n",
    "              [1,2,3],\n",
    "              [4,5,6]])\n"
   ]
  },
  {
   "cell_type": "code",
   "execution_count": 28,
   "metadata": {},
   "outputs": [
    {
     "data": {
      "text/plain": [
       "1"
      ]
     },
     "execution_count": 28,
     "metadata": {},
     "output_type": "execute_result"
    }
   ],
   "source": [
    "diagonal_sum([[1,5],\n",
    "              [1,0]])"
   ]
  },
  {
   "cell_type": "code",
   "execution_count": 29,
   "metadata": {},
   "outputs": [],
   "source": [
    "def rooks_are_safe(chessboard):\n",
    "    n = len(chessboard)\n",
    "    \n",
    "    for row_i in range(n):\n",
    "        row_count = 0\n",
    "        for col_i in range(n):\n",
    "            row_count += chessboard[row_i][col_i]\n",
    "        if row_count > 1:\n",
    "            return False\n",
    "        \n",
    "    for col_i in range(n):\n",
    "        col_count = 0\n",
    "        for row_i in range(n):\n",
    "            col_count += chessboard[row_i][col_i]\n",
    "        if col_count > 1:\n",
    "            return False\n",
    "    return True"
   ]
  },
  {
   "cell_type": "code",
   "execution_count": 30,
   "metadata": {},
   "outputs": [
    {
     "data": {
      "text/plain": [
       "True"
      ]
     },
     "execution_count": 30,
     "metadata": {},
     "output_type": "execute_result"
    }
   ],
   "source": [
    "rooks_are_safe(\n",
    "    [[1,0,0,0],\n",
    "     [0,1,0,0],\n",
    "     [0,0,0,1],\n",
    "     [0,0,0,0]])"
   ]
  },
  {
   "cell_type": "code",
   "execution_count": 31,
   "metadata": {},
   "outputs": [
    {
     "name": "stdout",
     "output_type": "stream",
     "text": [
      "RAM:16GB,Processor:intel:i5\n",
      "RAM:16GB,Processor:intel:i5\n",
      "RAM:16GB,Processor:intel:i5\n",
      "RAM:16GB,Processor:intel:i5\n"
     ]
    }
   ],
   "source": [
    "# Object oriented programming\n",
    "class computer:\n",
    "    def config(self):\n",
    "        print(\"RAM:16GB,Processor:intel:i5\")\n",
    "\n",
    "comp1 = computer()\n",
    "comp2 = computer()\n",
    "\n",
    "computer.config(comp1)\n",
    "computer.config(comp2)\n",
    "comp1.config()\n",
    "comp2.config()"
   ]
  },
  {
   "cell_type": "code",
   "execution_count": 32,
   "metadata": {},
   "outputs": [
    {
     "name": "stdout",
     "output_type": "stream",
     "text": [
      "config is: i5 RAM:16\n",
      "config is: Ryzen_3 RAM:8\n"
     ]
    }
   ],
   "source": [
    "class computer:\n",
    "    def __init__(self,cpu,ram):\n",
    "        self.cpu = cpu\n",
    "        self.ram = ram\n",
    "    \n",
    "    def config(self):\n",
    "        print(\"config is:\",self.cpu,self.ram)\n",
    "\n",
    "comp1 = computer('i5','RAM:16')\n",
    "comp2 = computer('Ryzen_3','RAM:8')\n",
    "\n",
    "comp1.config()\n",
    "comp2.config()"
   ]
  },
  {
   "cell_type": "code",
   "execution_count": 33,
   "metadata": {},
   "outputs": [
    {
     "name": "stdout",
     "output_type": "stream",
     "text": [
      "different age\n",
      "person1: \n",
      "name: pratham 17\n",
      "person2: \n",
      "name: Nurul 18\n"
     ]
    }
   ],
   "source": [
    "class person:\n",
    "    \n",
    "    def __init__(self,name,age):\n",
    "        self.name = name\n",
    "        self.age = age\n",
    "        \n",
    "    def compare(self,other):\n",
    "        if self.age == other.age:\n",
    "            return True\n",
    "        else:\n",
    "            return False\n",
    "        \n",
    "        \n",
    "p1 = person(\"pratham\",17)        \n",
    "p2 = person(\"Nurul\",18)\n",
    "\n",
    "if p1.compare(p2):\n",
    "    print(\"same age\")\n",
    "else:\n",
    "    print(\"different age\")\n",
    "\n",
    "print(\"person1: \")\n",
    "print(\"name: \" + p1.name,p1.age)\n",
    "print(\"person2: \")\n",
    "print(\"name: \" + p2.name,p2.age)"
   ]
  },
  {
   "cell_type": "code",
   "execution_count": 34,
   "metadata": {},
   "outputs": [
    {
     "name": "stdout",
     "output_type": "stream",
     "text": [
      "37.666666666666664\n",
      "44.333333333333336\n",
      "Teluska\n",
      "This is student class.. in abc solude\n"
     ]
    }
   ],
   "source": [
    "class student:\n",
    "    school = 'Teluska'\n",
    "\n",
    "    def __init__(self, m1, m2, m3):\n",
    "        self.m1 = m1\n",
    "        self.m2 = m2\n",
    "        self.m3 = m3\n",
    "\n",
    "    def avg(self):\n",
    "        return (self.m1 + self.m2 + self.m3) / 3\n",
    "\n",
    "    @classmethod\n",
    "    def getschool(cls):\n",
    "        return cls.school\n",
    "    \n",
    "    @staticmethod\n",
    "    def info():\n",
    "        print(\"This is student class.. in abc solude\")\n",
    "\n",
    "\n",
    "s1 = student(34, 47, 32)\n",
    "s2 = student(89, 32, 12)\n",
    "\n",
    "print(s1.avg())\n",
    "print(s2.avg())\n",
    "print(student.getschool())\n",
    "\n",
    "student.info()"
   ]
  },
  {
   "cell_type": "code",
   "execution_count": 1,
   "metadata": {},
   "outputs": [
    {
     "name": "stdout",
     "output_type": "stream",
     "text": [
      "feature1\n",
      "feature3\n",
      "feature3\n",
      "feature5\n"
     ]
    }
   ],
   "source": [
    "# inheritance in python\n",
    "class A: # parent class cannot access the child class features \n",
    "    def feature1(self):\n",
    "        print(\"feature1\")\n",
    "        \n",
    "    def feature2(self):\n",
    "        print(\"feature2\")\n",
    "    \n",
    "class B(A):#here we can access all the feature by defining the parent class in child class\n",
    "    def feature3(self):\n",
    "        print(\"feature3\")\n",
    "        \n",
    "    def feature4(self):\n",
    "        print(\"feature4\")\n",
    "        \n",
    "class C(B):\n",
    "    def feature5(self):\n",
    "        print(\"feature5\")\n",
    "    \n",
    "    def feature6(self):\n",
    "        print(\"feature6\")\n",
    "        \n",
    "\n",
    "b1 = B()\n",
    "\n",
    "b1.feature1()\n",
    "b1.feature3()\n",
    "\n",
    "c1 = C()\n",
    "\n",
    "\n",
    "c1.feature3()\n",
    "c1.feature5()"
   ]
  },
  {
   "cell_type": "code",
   "execution_count": 2,
   "metadata": {},
   "outputs": [
    {
     "name": "stdout",
     "output_type": "stream",
     "text": [
      "in A init\n",
      "in C init\n",
      "feature1 of A\n"
     ]
    }
   ],
   "source": [
    "#constructer in inheritance\n",
    "class A:#super class\n",
    "    \n",
    "    def __init__(self):\n",
    "        print(\"in A init\")\n",
    "        \n",
    "    def feature1(self):\n",
    "        print(\"feature1 of A\")\n",
    "\n",
    "class B:#sub class\n",
    "    \n",
    "    def __init__(self):          # object of sub class will first try to find init of sub class \n",
    "                                 #if it does'nt find it will go to super class\n",
    "        print(\"in B init\")\n",
    "        super().__init__() #this function will call the super class init\n",
    "    \n",
    "    def feature1(self):\n",
    "        print(\"feature1 of B\")\n",
    "\n",
    "class C(A,B):\n",
    "    \n",
    "    def __init__(self):\n",
    "        super().__init__()\n",
    "        print(\"in C init\")\n",
    "\n",
    "\n",
    "\n",
    "c1 = C()\n",
    "\n",
    "c1.feature1()\n"
   ]
  },
  {
   "cell_type": "markdown",
   "metadata": {},
   "source": [
    "# polymorphism\n",
    " #.duck typing\n",
    " #.operator overloading\n",
    " #.Method overloading\n",
    " #.Method overriding"
   ]
  },
  {
   "cell_type": "code",
   "execution_count": 5,
   "metadata": {},
   "outputs": [
    {
     "name": "stdout",
     "output_type": "stream",
     "text": [
      "spell check\n",
      "convention check\n",
      "compiling\n",
      "Running\n"
     ]
    }
   ],
   "source": [
    "#Duck typing\n",
    "class pycharm:\n",
    "    \n",
    "    def execute(self):\n",
    "        print(\"compiling\")\n",
    "        print(\"Running\")\n",
    "        \n",
    "class Myeditor:\n",
    "    \n",
    "    def execute(self):\n",
    "        print(\"spell check\")\n",
    "        print(\"convention check\")\n",
    "        print(\"compiling\")\n",
    "        print(\"Running\")\n",
    "        \n",
    "class Laptop:\n",
    "    \n",
    "    def code(self,ide):\n",
    "        ide.execute()\n",
    "        \n",
    "ide = Myeditor()\n",
    "\n",
    "lap1 = Laptop()\n",
    "\n",
    "lap1.code(ide)"
   ]
  },
  {
   "cell_type": "code",
   "execution_count": 6,
   "metadata": {},
   "outputs": [
    {
     "name": "stdout",
     "output_type": "stream",
     "text": [
      "134\n",
      "\n",
      "s1 wins\n",
      "9\n"
     ]
    }
   ],
   "source": [
    "#Operator overloading\n",
    "class student:\n",
    "    \n",
    "    def __init__(self,m1,m2):\n",
    "        self.m1 = m1\n",
    "        self.m2 = m2\n",
    "        \n",
    "    def __add__(self,other):\n",
    "        m1 = self.m1 + other.m1\n",
    "        m2 = self.m2 + other.m2\n",
    "        s3 = student(m1,m2)\n",
    "        return s3\n",
    "    \n",
    "    def __gt__(self,other):\n",
    "        r1 = self.m1 +self.m2\n",
    "        r2 = other.m1 + other.m2\n",
    "        if r1 > r2:\n",
    "            return True\n",
    "        else:\n",
    "            return False\n",
    "    \n",
    "s1 = student(58,69)\n",
    "s2 = student(60,65)\n",
    "\n",
    "s3 = s1 + s2\n",
    "\n",
    "print(s3.m2)\n",
    "print()\n",
    "\n",
    "if s1>s2:\n",
    "    print(\"s1 wins\")\n",
    "else:\n",
    "    print(\"s2 wins\")\n",
    "\n",
    "a = 9\n",
    "print(a)"
   ]
  },
  {
   "cell_type": "code",
   "execution_count": 8,
   "metadata": {},
   "outputs": [
    {
     "data": {
      "text/plain": [
       "8"
      ]
     },
     "execution_count": 8,
     "metadata": {},
     "output_type": "execute_result"
    }
   ],
   "source": [
    "#Method Overloading\n",
    "class student:\n",
    "    \n",
    "    def __init__(self,m1,m2,m3):\n",
    "        self.m1 = m1\n",
    "        self.m2 = m2\n",
    "        self.m3 = m3\n",
    "    def sum(self,a=None,b=None,c=None):\n",
    "        if a!=None and b!=None and c!=None:\n",
    "            n = a+b+c\n",
    "        elif a!=None and b!=None:\n",
    "            n = a+b\n",
    "        else:\n",
    "            n = a\n",
    "            \n",
    "        return n\n",
    "    \n",
    "s1 = student(58,59,0)\n",
    "\n",
    "s1.sum(1,2,5)"
   ]
  },
  {
   "cell_type": "code",
   "execution_count": 9,
   "metadata": {},
   "outputs": [
    {
     "name": "stdout",
     "output_type": "stream",
     "text": [
      "in B show\n"
     ]
    }
   ],
   "source": [
    "#Method Overriding\n",
    "class A:\n",
    "    \n",
    "    def show(self):\n",
    "        print(\"in A show\")\n",
    "        \n",
    "class B(A):\n",
    "    def show(self):\n",
    "        print(\"in B show\")\n",
    "        \n",
    "        \n",
    "a1 = B()\n",
    "\n",
    "a1.show()"
   ]
  },
  {
   "cell_type": "markdown",
   "metadata": {},
   "source": [
    "# Errors\n",
    "  #-> compile time\n",
    "  #-> logical\n",
    "  #-> Run time"
   ]
  },
  {
   "cell_type": "code",
   "execution_count": 13,
   "metadata": {},
   "outputs": [
    {
     "name": "stdout",
     "output_type": "stream",
     "text": [
      "hey, you can't devide a number by zero\n",
      "bye\n"
     ]
    }
   ],
   "source": [
    "a = 5\n",
    "b = 0\n",
    "\n",
    "try:\n",
    "    print(a/b)\n",
    "except Exception as e:\n",
    "    print(\"hey, you can't devide a number by zero\")\n",
    "    \n",
    "print(\"bye\")"
   ]
  },
  {
   "cell_type": "code",
   "execution_count": 14,
   "metadata": {},
   "outputs": [
    {
     "name": "stdout",
     "output_type": "stream",
     "text": [
      "resource open\n",
      "2.5\n",
      "resource closed\n"
     ]
    }
   ],
   "source": [
    "a = 5\n",
    "b = 2\n",
    "\n",
    "try:\n",
    "    print(\"resource open\")\n",
    "    print(a/b)\n",
    "\n",
    "except Exception as e:\n",
    "    print(\"hey, you can't devide a number by zero\")\n",
    "\n",
    "\n",
    "finally:\n",
    "    print(\"resource closed\")\n"
   ]
  },
  {
   "cell_type": "code",
   "execution_count": 17,
   "metadata": {},
   "outputs": [
    {
     "name": "stdout",
     "output_type": "stream",
     "text": [
      "resource open\n",
      "hey, you can't devide a number by zero\n",
      "resource closed\n"
     ]
    }
   ],
   "source": [
    "a = 5\n",
    "b = 0\n",
    "\n",
    "try:\n",
    "    print(\"resource open\")\n",
    "    print(a/b)\n",
    "    k = int(input(\"Enter the number\"))\n",
    "    print(k)\n",
    "    \n",
    "except ZeroDivisionError as e:\n",
    "    print(\"hey, you can't devide a number by zero\")\n",
    "\n",
    "except ValueError as e:\n",
    "    print(\"Invalid Input\")\n",
    "    \n",
    "except Exception as e:\n",
    "    print(\"Something Went Wrong...\")\n",
    "    \n",
    "finally:\n",
    "    print(\"resource closed\")\n"
   ]
  },
  {
   "cell_type": "code",
   "execution_count": 18,
   "metadata": {},
   "outputs": [
    {
     "name": "stdout",
     "output_type": "stream",
     "text": [
      "Hello\n",
      "Hi\n",
      "Hello\n",
      "Hi\n",
      "Hello\n",
      "Hi\n",
      "Hello\n",
      "Hi\n",
      "Hello\n",
      "Hi\n",
      "Bye\n"
     ]
    }
   ],
   "source": [
    "#Thread\n",
    "from time import sleep\n",
    "from threading import *\n",
    "\n",
    "class Hello(Thread):\n",
    "    def run(self):\n",
    "        for i in range(5):\n",
    "            print(\"Hello\")\n",
    "            sleep(1)\n",
    "            \n",
    "class Hi(Thread):\n",
    "    def run(self):\n",
    "        for i in range(5):\n",
    "            print(\"Hi\")\n",
    "            sleep(1)\n",
    "            \n",
    "t1 = Hello()\n",
    "t2 = Hi()\n",
    "\n",
    "t1.start()\n",
    "sleep(0.2)\n",
    "t2.start()\n",
    "\n",
    "t1.join()\n",
    "t2.join()\n",
    "print(\"Bye\")"
   ]
  },
  {
   "cell_type": "code",
   "execution_count": 21,
   "metadata": {},
   "outputs": [
    {
     "name": "stdout",
     "output_type": "stream",
     "text": [
      "enter the number to search6\n",
      "Not found!\n"
     ]
    }
   ],
   "source": [
    "#Linear Search\n",
    "pos = -1\n",
    "\n",
    "def search(list,n):\n",
    "    i=0\n",
    "    while len(list):\n",
    "        if list[i] == n:\n",
    "            globals()['pos'] = i\n",
    "            return True\n",
    "        else:\n",
    "            return False\n",
    "        i += 1\n",
    "list = [5,3,4,6,7,9]\n",
    "n = int(input(\"enter the number to search\"))\n",
    "\n",
    "if search(list,n):\n",
    "    print(\"Found at\",pos)\n",
    "else:\n",
    "    print('Not found!')"
   ]
  },
  {
   "cell_type": "code",
   "execution_count": null,
   "metadata": {},
   "outputs": [],
   "source": [
    "###### Binary search\n",
    "pos = -1\n",
    "\n",
    "def b_search(list ,n):\n",
    "    l = 0\n",
    "    u = len(list ) -1\n",
    "    while l<=u:\n",
    "        mid = (l+u) // 2\n",
    "        if list[mid] == n:\n",
    "            globals()['pos'] = mid\n",
    "            return True\n",
    "        else:\n",
    "            if list[mid]>n:\n",
    "                l = mid+1\n",
    "            else:\n",
    "                u = mid-1\n",
    "    return False\n",
    "\n",
    "\n",
    "\n",
    "list = [9,8,7, 6, 5, 4, 3]\n",
    "n = int(input(\"Enter the number to search!\\n\"))\n",
    "if b_search(list,n):\n",
    "    print(\"Found at\",pos)\n",
    "else:\n",
    "    print('Not found!')"
   ]
  },
  {
   "cell_type": "code",
   "execution_count": null,
   "metadata": {},
   "outputs": [],
   "source": [
    "# Scope\n",
    "# LEGB(local, Enslosing, global, Built-in)\n",
    "\n",
    "x = 'global x'\n",
    "\n",
    "\n",
    "def outer():\n",
    "    x = 'outer x'\n",
    "    \n",
    "    def inner():\n",
    "       # nonlocal x\n",
    "        x = 'inner x'\n",
    "        print(x)\n",
    "        \n",
    "    inner()\n",
    "    print(x)\n",
    "    \n",
    "outer()\n",
    "print(x)"
   ]
  },
  {
   "cell_type": "code",
   "execution_count": null,
   "metadata": {},
   "outputs": [],
   "source": [
    "import builtins\n",
    "\n",
    "print(dir(builtins))"
   ]
  },
  {
   "cell_type": "code",
   "execution_count": null,
   "metadata": {},
   "outputs": [],
   "source": [
    "#Slicing\n",
    "my_list =  [0,1,2,3,4,5,6,7,8,9]\n",
    "\n",
    "# list[start:end:step]\n",
    "\n",
    "print(my_list[0:6])\n",
    "\n",
    "print(my_list[0:]) #it will print from given starting index to end\n",
    "\n",
    "print(my_list[2:8:2])# step skips the number \n",
    "\n",
    "print(my_list[-1:2:-1])\n",
    "\n",
    "print(my_list[::-1])"
   ]
  },
  {
   "cell_type": "code",
   "execution_count": null,
   "metadata": {},
   "outputs": [],
   "source": [
    "#Slicing string\n",
    "sample_url = 'http://coreys.com'\n",
    "print(sample_url)\n",
    "\n",
    "# # Reverse the url\n",
    "print(sample_url[::-1])\n",
    "\n",
    "# # Get the top level domain\n",
    "print(sample_url[-4:])\n",
    "\n",
    "# # print the url without http://\n",
    "print(sample_url[7:])\n",
    "\n",
    "# # print the url without the http:// or the top level domain\n",
    "print(sample_url[7:-4])"
   ]
  },
  {
   "cell_type": "code",
   "execution_count": null,
   "metadata": {},
   "outputs": [],
   "source": [
    "# List comprehension\n",
    "\n",
    "nums = [0,1,2,3,4,5,6,7,8,9]\n",
    "\n",
    "# I want 'n' for each 'n' in nums\n",
    "\n",
    "my_list = []\n",
    "for n in nums:\n",
    "    my_list.append(n)\n",
    "#print(my_list)\n",
    "\n",
    "my_list = [n for n in nums]\n",
    "#print(my_list)\n",
    "\n",
    "# I want 'n*n' for each 'n' in nums\n",
    "\n",
    "my_list = []\n",
    "for n in nums:\n",
    "    my_list.append(n*n)\n",
    "#print(my_list)\n",
    "\n",
    "my_list = [n*n for n in nums]\n",
    "#print(my_list)\n",
    "\n",
    "# using map + lambda\n",
    "#print('map: ')\n",
    "my_list = list(map(lambda n: n*n, nums))\n",
    "#print(my_list)\n",
    "\n",
    "# I want 'n' for each 'n' in nums if 'n' is even\n",
    "my_list = []\n",
    "for n in nums:\n",
    "    if n%2 == 0:\n",
    "        my_list.append(n)\n",
    "#print(my_list)\n",
    "\n",
    "my_list = [n for n in nums if n%2 == 0]\n",
    "#print(my_list)\n",
    "\n",
    "my_list = list(filter(lambda n : n%2 == 0,nums))\n",
    "#print(my_list)\n",
    "\n",
    "# I want a (letter,number) pair for each letter in 'abcd' and each number in '0123'\n",
    "my_list = []\n",
    "for letter in 'abcd':\n",
    "    for num in range(4):\n",
    "        my_list.append((letter,num))\n",
    "#print(my_list)\n",
    "\n",
    "my_list = [(letter, num) for letter in 'abcd' for num in range(4)]\n",
    "#print(my_list)"
   ]
  },
  {
   "cell_type": "code",
   "execution_count": null,
   "metadata": {},
   "outputs": [],
   "source": [
    "# Dictionary comprehension\n",
    "\n",
    "names = ['bruce', 'Clark', 'Peter', 'Logan', 'Wade']\n",
    "heros = ['Batman', 'Superman', 'Spiderman', 'Wolverine', 'Deadpool']\n",
    "# print zip(names, heros)\n",
    "\n",
    "# I want a dict{'name', 'hero'} for each name, hero in zip(names, heros)\n",
    "my_dict = {}\n",
    "for name, hero in zip(names, heros):\n",
    "    my_dict[name] = hero\n",
    "#print(my_dict)\n",
    "\n",
    "my_dict = {name: hero for name, hero in zip(names, heros)}\n",
    "print(my_dict)\n",
    "\n",
    "# if name not equal to Peter\n",
    "my_dict = {name: hero for name, hero in zip(names, heros)if name != 'Peter'}\n",
    "print(my_dict)"
   ]
  },
  {
   "cell_type": "code",
   "execution_count": null,
   "metadata": {},
   "outputs": [],
   "source": [
    "# Set Comprehension\n",
    "nums = (1,1,2,1,3,4,3,4,5,5,6,7,8,7,9,9)\n",
    "my_set = set()\n",
    "for n in nums:\n",
    "    my_set.add(n)\n",
    "#print(my_set)\n",
    "\n",
    "my_set = {n for n in nums}\n",
    "#print(my_set)"
   ]
  },
  {
   "cell_type": "code",
   "execution_count": null,
   "metadata": {},
   "outputs": [],
   "source": [
    "# Generator Expression\n",
    "# I want to yeild 'n*n' for each 'n' in nums\n",
    "nums = [1, 2, 3, 4, 5, 6, 7, 8, 9,10]\n",
    "\n",
    "def gen_func(nums):\n",
    "    for n in nums:\n",
    "        yield(n*n)\n",
    "        \n",
    "#my_gen = gen_func(nums)\n",
    "\n",
    "#for i in my_gen:\n",
    "#    print(i)\n",
    "\n",
    "my_gen = (n*n for n in nums)\n",
    "\n",
    "for i in my_gen:\n",
    "    print(i)"
   ]
  },
  {
   "cell_type": "code",
   "execution_count": null,
   "metadata": {},
   "outputs": [],
   "source": [
    "# Sorting list\n",
    "li = [9,1,5,3,6,7,4,1,3,8]\n",
    "s_li = sorted(li, reverse=True)\n",
    "\n",
    "#print('Sorted Variable:\\t', s_li)\n",
    "\n",
    "li.sort()\n",
    "\n",
    "#print('Original Variable:\\t', li)\n",
    "\n",
    "\n",
    "# sorting tuple\n",
    "tup = (6,7,8,1,5,4,3,9)\n",
    "s_tup = sorted(tup)\n",
    "print('tuple:\\t',s_tup)\n",
    "\n",
    "\n",
    "# sorting dictionary\n",
    "di = {'name': 'Corey', 'job': 'programming', 'age':None, 'os': 'Mac'}\n",
    "s_di = sorted(di)\n",
    "print('Dic:\\t',s_di)"
   ]
  },
  {
   "cell_type": "code",
   "execution_count": null,
   "metadata": {},
   "outputs": [],
   "source": [
    "class Employee:\n",
    "    def __init__(self, name, age, salary):\n",
    "        self.name = name\n",
    "        self.age = age\n",
    "        self.salary = salary\n",
    "        \n",
    "    def __repr__(self):\n",
    "        return'({},{},${})'.format(self.name, self.age, self.salary)\n",
    "\n",
    "from operator import attrgetter\n",
    "    \n",
    "e1 = Employee('Nurul', 35, 50000)\n",
    "e2 = Employee('Sahil', 32, 52000)\n",
    "e3 = Employee('Akshat', 40, 62000)\n",
    "\n",
    "employees = [e1,e2,e3]\n",
    "\n",
    "#def e_sort(emp):\n",
    "#    return emp.salary\n",
    "\n",
    "#s_employees = sorted(employees, key=e_sort, reverse=True)\n",
    "#s_employees = sorted(employees, key=lambda e: e.name, reverse=True)\n",
    "s_employees = sorted(employees, key=attrgetter('salary'), reverse=True)\n",
    "\n",
    "print(s_employees)"
   ]
  },
  {
   "cell_type": "markdown",
   "metadata": {},
   "source": [
    "# string formating"
   ]
  },
  {
   "cell_type": "code",
   "execution_count": null,
   "metadata": {},
   "outputs": [],
   "source": [
    "person = {'name': 'jenn', 'age': 23}\n",
    "\n",
    "sentence = 'My name is ' + person['name'] + ' and I am ' + str(person['age']) + ' years old.'\n",
    "#print(sentence)\n",
    "\n",
    "sentence = 'My name is {} and I am {} years old.'.format(person['name'], person['age'])\n",
    "#print(sentence)\n",
    "\n",
    "sentence = 'My name is {0} and I am {1} years old.'.format(person['name'], person['age'])\n",
    "#print(sentence)\n",
    "\n",
    "tag = 'h1'\n",
    "text = 'This is a headline'\n",
    "\n",
    "sentence = '<{0}>{1}</{0}>'.format(tag, text)\n",
    "#print(sentence)\n",
    "\n",
    "#sentence = 'My name is {0[name]} and I am {1[age]} years old'.format(person , person)\n",
    "sentence = 'My name is {0[name]} and I am {0[age]} years old'.format(person)\n",
    "#print(sentence)\n",
    "\n",
    "l = ['jenn', 23]\n",
    "\n",
    "sentence = 'My name is {0[0]} and I am {0[1]} years old'.format(l)\n",
    "#print(sentence)\n",
    "\n",
    "class person():\n",
    "    def __init__(self, name, age):\n",
    "        self.name = name\n",
    "        self.age = age\n",
    "        \n",
    "p1 = person('Jenny', '22')\n",
    "\n",
    "sentence = 'My name is {0.name} and I am {0.age} years old.'.format(p1)\n",
    "#print(sentence)\n",
    "\n",
    "sentence = 'My name is {name} and I am {age} years old.'.format(name='Jenn', age='33')\n",
    "#print(sentence)\n",
    "\n",
    "person = {'name': 'Jenn', 'age': 23}\n",
    "sentence = 'My name is {name} and I am {age} years old.'.format(**person)\n",
    "#print(sentence)\n",
    "\n",
    "for i in range(1,11):\n",
    "    sentence = 'The value is {:03}'.format(i)\n",
    "    #print(sentence)\n",
    "    \n",
    "pi = 3.14159265\n",
    "\n",
    "sentence = 'pi is equal to {:.2f}'.format(pi)\n",
    "#print(sentence)\n",
    "\n",
    "sentence = '1 MB is equal to {:,.2f} bytes'.format(1000**2)\n",
    "#print(sentence)\n",
    "\n",
    "import datetime\n",
    "my_date = datetime.datetime(2019, 2, 2, 12, 44, 59)\n",
    "#print(my_date)\n",
    "\n",
    "sentence = '{:%B %d, %Y}'.format(my_date)\n",
    "#print(sentence)\n",
    "\n",
    "sentence = '{0:%B %d, %Y} fell on {0:%A} and was the {0:%j} day of the year.'.format(my_date)\n",
    "print(sentence)"
   ]
  },
  {
   "cell_type": "code",
   "execution_count": null,
   "metadata": {},
   "outputs": [],
   "source": [
    "import os\n",
    "\n",
    "print(dir(os))"
   ]
  },
  {
   "cell_type": "code",
   "execution_count": null,
   "metadata": {},
   "outputs": [],
   "source": [
    "print(os.getcwd())\n",
    "print(os.listdir())\n"
   ]
  },
  {
   "cell_type": "code",
   "execution_count": null,
   "metadata": {},
   "outputs": [],
   "source": []
  }
 ],
 "metadata": {
  "kernelspec": {
   "display_name": "Python 3",
   "language": "python",
   "name": "python3"
  },
  "language_info": {
   "codemirror_mode": {
    "name": "ipython",
    "version": 3
   },
   "file_extension": ".py",
   "mimetype": "text/x-python",
   "name": "python",
   "nbconvert_exporter": "python",
   "pygments_lexer": "ipython3",
   "version": "3.7.4"
  }
 },
 "nbformat": 4,
 "nbformat_minor": 2
}
